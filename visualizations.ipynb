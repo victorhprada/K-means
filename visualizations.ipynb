{
  "cells": [
    {
      "cell_type": "markdown",
      "metadata": {},
      "source": [
        "# Geração de Visualizações para o Projeto de Segmentação de Clientes\n",
        "\n",
        "Este notebook é dedicado à geração das visualizações para o README do projeto.\n"
      ]
    },
    {
      "cell_type": "code",
      "execution_count": 2,
      "metadata": {},
      "outputs": [],
      "source": [
        "# Importar bibliotecas necessárias\n",
        "import pandas as pd\n",
        "import numpy as np\n",
        "from sklearn.cluster import KMeans\n",
        "from sklearn.preprocessing import StandardScaler\n",
        "from sklearn.metrics import silhouette_score\n",
        "import matplotlib.pyplot as plt\n",
        "import seaborn as sns\n",
        "import os\n",
        "\n",
        "# Configurar o estilo das visualizações\n",
        "sns.set_theme(style=\"whitegrid\")\n",
        "sns.set_palette(\"husl\")\n",
        "plt.rcParams['figure.figsize'] = [10, 6]\n",
        "plt.rcParams['figure.dpi'] = 100\n",
        "\n",
        "# Criar diretório para imagens se não existir\n",
        "if not os.path.exists('images'):\n",
        "    os.makedirs('images')\n"
      ]
    },
    {
      "cell_type": "code",
      "execution_count": 3,
      "metadata": {},
      "outputs": [
        {
          "name": "stdout",
          "output_type": "stream",
          "text": [
            "Dataset carregado com sucesso!\n",
            "\n",
            "Informações do dataset:\n",
            "<class 'pandas.core.frame.DataFrame'>\n",
            "RangeIndex: 200 entries, 0 to 199\n",
            "Data columns (total 5 columns):\n",
            " #   Column                  Non-Null Count  Dtype \n",
            "---  ------                  --------------  ----- \n",
            " 0   CustomerID              200 non-null    int64 \n",
            " 1   Gender                  200 non-null    object\n",
            " 2   Age                     200 non-null    int64 \n",
            " 3   Annual Income (k$)      200 non-null    int64 \n",
            " 4   Spending Score (1-100)  200 non-null    int64 \n",
            "dtypes: int64(4), object(1)\n",
            "memory usage: 7.9+ KB\n",
            "None\n",
            "\n",
            "Primeiras linhas do dataset:\n",
            "   CustomerID  Gender  Age  Annual Income (k$)  Spending Score (1-100)\n",
            "0           1    Male   19                  15                      39\n",
            "1           2    Male   21                  15                      81\n",
            "2           3  Female   20                  16                       6\n",
            "3           4  Female   23                  16                      77\n",
            "4           5  Female   31                  17                      40\n"
          ]
        },
        {
          "name": "stderr",
          "output_type": "stream",
          "text": [
            "/var/folders/pr/wx16k7494f1grpgyylpct75h0000gn/T/ipykernel_2443/615261412.py:31: FutureWarning: \n",
            "\n",
            "Passing `palette` without assigning `hue` is deprecated and will be removed in v0.14.0. Assign the `x` variable to `hue` and set `legend=False` for the same effect.\n",
            "\n",
            "  sns.countplot(data=df, x='Gender', palette=['lightblue', 'lightpink'])\n"
          ]
        }
      ],
      "source": [
        "# Carregar os dados\n",
        "try:\n",
        "    df = pd.read_csv('Mall_Customers.csv')\n",
        "    print(\"Dataset carregado com sucesso!\")\n",
        "    print(\"\\nInformações do dataset:\")\n",
        "    print(df.info())\n",
        "    print(\"\\nPrimeiras linhas do dataset:\")\n",
        "    print(df.head())\n",
        "except FileNotFoundError:\n",
        "    print(\"Erro: Arquivo 'Mall_Customers.csv' não encontrado!\")\n",
        "    print(\"Por favor, verifique se o arquivo está no diretório correto.\")\n",
        "    raise\n",
        "\n",
        "# 1. Análise Exploratória\n",
        "plt.figure(figsize=(15, 10))\n",
        "\n",
        "# Distribuições\n",
        "plt.subplot(2, 2, 1)\n",
        "sns.histplot(data=df, x='Age', kde=True, color='skyblue')\n",
        "plt.title('Distribuição de Idade')\n",
        "\n",
        "plt.subplot(2, 2, 2)\n",
        "sns.histplot(data=df, x='Annual Income (k$)', kde=True, color='lightgreen')\n",
        "plt.title('Distribuição de Renda Anual')\n",
        "\n",
        "plt.subplot(2, 2, 3)\n",
        "sns.histplot(data=df, x='Spending Score (1-100)', kde=True, color='salmon')\n",
        "plt.title('Distribuição de Score de Gastos')\n",
        "\n",
        "plt.subplot(2, 2, 4)\n",
        "sns.countplot(data=df, x='Gender', palette=['lightblue', 'lightpink'])\n",
        "plt.title('Distribuição de Gênero')\n",
        "\n",
        "plt.suptitle('Análise Exploratória dos Dados', fontsize=16, y=1.02)\n",
        "plt.tight_layout()\n",
        "plt.savefig('images/exploratory_analysis.png', dpi=300, bbox_inches='tight')\n",
        "plt.close()\n"
      ]
    },
    {
      "cell_type": "code",
      "execution_count": 4,
      "metadata": {},
      "outputs": [],
      "source": [
        "# 2. Matriz de Correlação\n",
        "plt.figure(figsize=(10, 8))\n",
        "numeric_cols = ['Age', 'Annual Income (k$)', 'Spending Score (1-100)']\n",
        "sns.heatmap(df[numeric_cols].corr(), annot=True, cmap='coolwarm', center=0)\n",
        "plt.title('Matriz de Correlação')\n",
        "plt.savefig('images/correlation_matrix.png', dpi=300, bbox_inches='tight')\n",
        "plt.close()\n"
      ]
    },
    {
      "cell_type": "code",
      "execution_count": 5,
      "metadata": {},
      "outputs": [],
      "source": [
        "# 3. Preparar dados para K-means\n",
        "scaler = StandardScaler()\n",
        "X = scaler.fit_transform(df[numeric_cols])\n",
        "\n",
        "# Calcular inércia e silhouette score para diferentes valores de k\n",
        "k_range = range(2, 11)\n",
        "inertias = []\n",
        "silhouette_scores = []\n",
        "\n",
        "for k in k_range:\n",
        "    kmeans = KMeans(n_clusters=k, random_state=42)\n",
        "    kmeans.fit(X)\n",
        "    inertias.append(kmeans.inertia_)\n",
        "    silhouette_scores.append(silhouette_score(X, kmeans.labels_))\n",
        "\n",
        "# Plotar Método do Cotovelo e Silhouette Score\n",
        "plt.figure(figsize=(15, 5))\n",
        "\n",
        "# Método do Cotovelo\n",
        "plt.subplot(1, 2, 1)\n",
        "plt.plot(k_range, inertias, 'bx-')\n",
        "plt.xlabel('k (número de clusters)')\n",
        "plt.ylabel('Inércia')\n",
        "plt.title('Método do Cotovelo')\n",
        "plt.grid(True)\n",
        "\n",
        "# Silhouette Score\n",
        "plt.subplot(1, 2, 2)\n",
        "plt.plot(k_range, silhouette_scores, 'rx-')\n",
        "plt.xlabel('k (número de clusters)')\n",
        "plt.ylabel('Silhouette Score')\n",
        "plt.title('Análise do Silhouette Score')\n",
        "plt.grid(True)\n",
        "\n",
        "plt.tight_layout()\n",
        "plt.savefig('images/metodos_avaliacao.png', dpi=300, bbox_inches='tight')\n",
        "plt.close()\n"
      ]
    },
    {
      "cell_type": "code",
      "execution_count": 6,
      "metadata": {},
      "outputs": [],
      "source": [
        "# 4. Visualização dos Clusters\n",
        "fig, axes = plt.subplots(1, 3, figsize=(20, 6))\n",
        "k_values = [3, 4, 5]\n",
        "\n",
        "for idx, k in enumerate(k_values):\n",
        "    kmeans = KMeans(n_clusters=k, random_state=42)\n",
        "    labels = kmeans.fit_predict(X[:, :2])\n",
        "    \n",
        "    scatter = axes[idx].scatter(X[:, 0], X[:, 1], c=labels, cmap='viridis')\n",
        "    axes[idx].set_xlabel('Primeira Característica')\n",
        "    axes[idx].set_ylabel('Segunda Característica')\n",
        "    axes[idx].set_title(f'Visualização dos Clusters (k={k})')\n",
        "    plt.colorbar(scatter, ax=axes[idx])\n",
        "\n",
        "plt.tight_layout()\n",
        "plt.savefig('images/clusters_visualization.png', dpi=300, bbox_inches='tight')\n",
        "plt.close()\n"
      ]
    }
  ],
  "metadata": {
    "kernelspec": {
      "display_name": "base",
      "language": "python",
      "name": "python3"
    },
    "language_info": {
      "codemirror_mode": {
        "name": "ipython",
        "version": 3
      },
      "file_extension": ".py",
      "mimetype": "text/x-python",
      "name": "python",
      "nbconvert_exporter": "python",
      "pygments_lexer": "ipython3",
      "version": "3.12.7"
    }
  },
  "nbformat": 4,
  "nbformat_minor": 2
}
